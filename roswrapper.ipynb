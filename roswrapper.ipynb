{
  "nbformat": 4,
  "nbformat_minor": 0,
  "metadata": {
    "colab": {
      "provenance": []
    },
    "kernelspec": {
      "name": "python3",
      "display_name": "Python 3"
    },
    "language_info": {
      "name": "python"
    }
  },
  "cells": [
    {
      "cell_type": "code",
      "execution_count": null,
      "metadata": {
        "id": "avIppJwdrn18"
      },
      "outputs": [],
      "source": [
        "import rospy\n",
        "from nav_msgs.msg import OccupancyGrid, Odometry\n",
        "from sensor_msgs.msg import LaserScan\n",
        "from geometry_msgs.msg import PoseStamped, Twist\n",
        "from actionlib import SimpleActionClient\n",
        "from move_base_msgs.msg import MoveBaseAction, MoveBaseGoal\n",
        "from tf.transformations import euler_from_quaternion\n",
        "\n",
        "class MPPIControllerNode:\n",
        "  def __init__(self):\n",
        "    rospy.init_node('mppi_controller_node')\n",
        "\n",
        "    self.map_sub = rospy.Subscriber('/map', OccupancyGrid, self.map_callback)\n",
        "    self.odom_sub = rospy.Subscriber('/odom', Odometry, self.odom_callback)\n",
        "\n",
        "    self.cmd_vel_pub = rospy.Publisher('/cmd_vel', Twist, queue_size = 10)\n",
        "\n",
        "  def odom_callback(self, msg):\n",
        "    self.current_pose = odom.msg.pose.pose.position\n",
        "    self.velocity = odom_msg.twist.twist.linear\n",
        "\n",
        "  def compute_mppi_control(self, position, velocity):\n",
        "    control_command = Twist()\n",
        "\n",
        "    #get command from mppi remember, we need a way point as well\n",
        "    control = self.get_action(position)\n",
        "\n",
        "    control_command.linear.x = control[0]\n",
        "    control_command.angular.z = control[1]\n",
        "\n",
        "    self.cmd_vel_pub.publish(control_command)\n",
        "\n",
        "  def get_action(self):\n",
        "    \"\"\"This is where our MPPI should be returning its action\"\"\"\n",
        "    pass\n",
        "\n",
        "if __name__ == '__main__':\n",
        "  try:\n",
        "    mppi_controller_node = MPPIControllerNode()\n",
        "    rospy.spin()\n",
        "  except:\n",
        "    pass\n"
      ]
    }
  ]
}